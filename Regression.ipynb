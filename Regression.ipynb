{
 "cells": [
  {
   "cell_type": "code",
   "execution_count": 1,
   "metadata": {},
   "outputs": [
    {
     "name": "stdout",
     "output_type": "stream",
     "text": [
      "Requirement already satisfied: pandas in c:\\users\\abina\\appdata\\local\\programs\\python\\python313\\lib\\site-packages (2.2.3)\n",
      "Requirement already satisfied: numpy>=1.26.0 in c:\\users\\abina\\appdata\\local\\programs\\python\\python313\\lib\\site-packages (from pandas) (2.1.3)\n",
      "Requirement already satisfied: python-dateutil>=2.8.2 in c:\\users\\abina\\appdata\\roaming\\python\\python313\\site-packages (from pandas) (2.9.0.post0)\n",
      "Requirement already satisfied: pytz>=2020.1 in c:\\users\\abina\\appdata\\local\\programs\\python\\python313\\lib\\site-packages (from pandas) (2024.2)\n",
      "Requirement already satisfied: tzdata>=2022.7 in c:\\users\\abina\\appdata\\local\\programs\\python\\python313\\lib\\site-packages (from pandas) (2024.2)\n",
      "Requirement already satisfied: six>=1.5 in c:\\users\\abina\\appdata\\roaming\\python\\python313\\site-packages (from python-dateutil>=2.8.2->pandas) (1.16.0)\n",
      "Note: you may need to restart the kernel to use updated packages.\n"
     ]
    }
   ],
   "source": [
    "%pip install pandas"
   ]
  },
  {
   "cell_type": "code",
   "execution_count": 2,
   "metadata": {},
   "outputs": [],
   "source": [
    "import pandas as pd\n",
    "\n",
    "train_data = pd.read_csv(r\"D:\\Projects\\clickstream_data\\train_data.csv\")\n",
    "test_data = pd.read_csv(r\"D:\\Projects\\clickstream_data\\test_data.csv\")"
   ]
  },
  {
   "cell_type": "code",
   "execution_count": 3,
   "metadata": {},
   "outputs": [
    {
     "data": {
      "text/html": [
       "<div>\n",
       "<style scoped>\n",
       "    .dataframe tbody tr th:only-of-type {\n",
       "        vertical-align: middle;\n",
       "    }\n",
       "\n",
       "    .dataframe tbody tr th {\n",
       "        vertical-align: top;\n",
       "    }\n",
       "\n",
       "    .dataframe thead th {\n",
       "        text-align: right;\n",
       "    }\n",
       "</style>\n",
       "<table border=\"1\" class=\"dataframe\">\n",
       "  <thead>\n",
       "    <tr style=\"text-align: right;\">\n",
       "      <th></th>\n",
       "      <th>year</th>\n",
       "      <th>month</th>\n",
       "      <th>day</th>\n",
       "      <th>order</th>\n",
       "      <th>country</th>\n",
       "      <th>session_id</th>\n",
       "      <th>page1_main_category</th>\n",
       "      <th>page2_clothing_model</th>\n",
       "      <th>colour</th>\n",
       "      <th>location</th>\n",
       "      <th>model_photography</th>\n",
       "      <th>price</th>\n",
       "      <th>price_2</th>\n",
       "      <th>page</th>\n",
       "    </tr>\n",
       "  </thead>\n",
       "  <tbody>\n",
       "    <tr>\n",
       "      <th>0</th>\n",
       "      <td>2008</td>\n",
       "      <td>6</td>\n",
       "      <td>22</td>\n",
       "      <td>21</td>\n",
       "      <td>29</td>\n",
       "      <td>15648</td>\n",
       "      <td>3</td>\n",
       "      <td>C20</td>\n",
       "      <td>13</td>\n",
       "      <td>1</td>\n",
       "      <td>2</td>\n",
       "      <td>48</td>\n",
       "      <td>1</td>\n",
       "      <td>2</td>\n",
       "    </tr>\n",
       "    <tr>\n",
       "      <th>1</th>\n",
       "      <td>2008</td>\n",
       "      <td>5</td>\n",
       "      <td>19</td>\n",
       "      <td>6</td>\n",
       "      <td>29</td>\n",
       "      <td>10018</td>\n",
       "      <td>2</td>\n",
       "      <td>B26</td>\n",
       "      <td>13</td>\n",
       "      <td>3</td>\n",
       "      <td>1</td>\n",
       "      <td>57</td>\n",
       "      <td>1</td>\n",
       "      <td>2</td>\n",
       "    </tr>\n",
       "    <tr>\n",
       "      <th>2</th>\n",
       "      <td>2008</td>\n",
       "      <td>7</td>\n",
       "      <td>15</td>\n",
       "      <td>2</td>\n",
       "      <td>29</td>\n",
       "      <td>19388</td>\n",
       "      <td>3</td>\n",
       "      <td>C13</td>\n",
       "      <td>9</td>\n",
       "      <td>5</td>\n",
       "      <td>1</td>\n",
       "      <td>48</td>\n",
       "      <td>1</td>\n",
       "      <td>1</td>\n",
       "    </tr>\n",
       "    <tr>\n",
       "      <th>3</th>\n",
       "      <td>2008</td>\n",
       "      <td>5</td>\n",
       "      <td>2</td>\n",
       "      <td>2</td>\n",
       "      <td>29</td>\n",
       "      <td>7181</td>\n",
       "      <td>2</td>\n",
       "      <td>B11</td>\n",
       "      <td>2</td>\n",
       "      <td>4</td>\n",
       "      <td>1</td>\n",
       "      <td>43</td>\n",
       "      <td>2</td>\n",
       "      <td>1</td>\n",
       "    </tr>\n",
       "    <tr>\n",
       "      <th>4</th>\n",
       "      <td>2008</td>\n",
       "      <td>6</td>\n",
       "      <td>9</td>\n",
       "      <td>16</td>\n",
       "      <td>29</td>\n",
       "      <td>13493</td>\n",
       "      <td>2</td>\n",
       "      <td>B31</td>\n",
       "      <td>9</td>\n",
       "      <td>5</td>\n",
       "      <td>1</td>\n",
       "      <td>57</td>\n",
       "      <td>1</td>\n",
       "      <td>2</td>\n",
       "    </tr>\n",
       "    <tr>\n",
       "      <th>...</th>\n",
       "      <td>...</td>\n",
       "      <td>...</td>\n",
       "      <td>...</td>\n",
       "      <td>...</td>\n",
       "      <td>...</td>\n",
       "      <td>...</td>\n",
       "      <td>...</td>\n",
       "      <td>...</td>\n",
       "      <td>...</td>\n",
       "      <td>...</td>\n",
       "      <td>...</td>\n",
       "      <td>...</td>\n",
       "      <td>...</td>\n",
       "      <td>...</td>\n",
       "    </tr>\n",
       "    <tr>\n",
       "      <th>132374</th>\n",
       "      <td>2008</td>\n",
       "      <td>7</td>\n",
       "      <td>4</td>\n",
       "      <td>3</td>\n",
       "      <td>29</td>\n",
       "      <td>17622</td>\n",
       "      <td>4</td>\n",
       "      <td>P19</td>\n",
       "      <td>2</td>\n",
       "      <td>1</td>\n",
       "      <td>1</td>\n",
       "      <td>48</td>\n",
       "      <td>1</td>\n",
       "      <td>2</td>\n",
       "    </tr>\n",
       "    <tr>\n",
       "      <th>132375</th>\n",
       "      <td>2008</td>\n",
       "      <td>6</td>\n",
       "      <td>19</td>\n",
       "      <td>9</td>\n",
       "      <td>29</td>\n",
       "      <td>15165</td>\n",
       "      <td>3</td>\n",
       "      <td>C26</td>\n",
       "      <td>14</td>\n",
       "      <td>3</td>\n",
       "      <td>1</td>\n",
       "      <td>28</td>\n",
       "      <td>2</td>\n",
       "      <td>2</td>\n",
       "    </tr>\n",
       "    <tr>\n",
       "      <th>132376</th>\n",
       "      <td>2008</td>\n",
       "      <td>7</td>\n",
       "      <td>15</td>\n",
       "      <td>4</td>\n",
       "      <td>29</td>\n",
       "      <td>19359</td>\n",
       "      <td>1</td>\n",
       "      <td>A4</td>\n",
       "      <td>3</td>\n",
       "      <td>2</td>\n",
       "      <td>2</td>\n",
       "      <td>38</td>\n",
       "      <td>2</td>\n",
       "      <td>1</td>\n",
       "    </tr>\n",
       "    <tr>\n",
       "      <th>132377</th>\n",
       "      <td>2008</td>\n",
       "      <td>7</td>\n",
       "      <td>28</td>\n",
       "      <td>16</td>\n",
       "      <td>29</td>\n",
       "      <td>21454</td>\n",
       "      <td>3</td>\n",
       "      <td>C50</td>\n",
       "      <td>9</td>\n",
       "      <td>5</td>\n",
       "      <td>2</td>\n",
       "      <td>20</td>\n",
       "      <td>2</td>\n",
       "      <td>3</td>\n",
       "    </tr>\n",
       "    <tr>\n",
       "      <th>132378</th>\n",
       "      <td>2008</td>\n",
       "      <td>7</td>\n",
       "      <td>6</td>\n",
       "      <td>17</td>\n",
       "      <td>29</td>\n",
       "      <td>17897</td>\n",
       "      <td>2</td>\n",
       "      <td>B1</td>\n",
       "      <td>4</td>\n",
       "      <td>1</td>\n",
       "      <td>1</td>\n",
       "      <td>57</td>\n",
       "      <td>1</td>\n",
       "      <td>1</td>\n",
       "    </tr>\n",
       "  </tbody>\n",
       "</table>\n",
       "<p>132379 rows × 14 columns</p>\n",
       "</div>"
      ],
      "text/plain": [
       "        year  month  day  order  country  session_id  page1_main_category  \\\n",
       "0       2008      6   22     21       29       15648                    3   \n",
       "1       2008      5   19      6       29       10018                    2   \n",
       "2       2008      7   15      2       29       19388                    3   \n",
       "3       2008      5    2      2       29        7181                    2   \n",
       "4       2008      6    9     16       29       13493                    2   \n",
       "...      ...    ...  ...    ...      ...         ...                  ...   \n",
       "132374  2008      7    4      3       29       17622                    4   \n",
       "132375  2008      6   19      9       29       15165                    3   \n",
       "132376  2008      7   15      4       29       19359                    1   \n",
       "132377  2008      7   28     16       29       21454                    3   \n",
       "132378  2008      7    6     17       29       17897                    2   \n",
       "\n",
       "       page2_clothing_model  colour  location  model_photography  price  \\\n",
       "0                       C20      13         1                  2     48   \n",
       "1                       B26      13         3                  1     57   \n",
       "2                       C13       9         5                  1     48   \n",
       "3                       B11       2         4                  1     43   \n",
       "4                       B31       9         5                  1     57   \n",
       "...                     ...     ...       ...                ...    ...   \n",
       "132374                  P19       2         1                  1     48   \n",
       "132375                  C26      14         3                  1     28   \n",
       "132376                   A4       3         2                  2     38   \n",
       "132377                  C50       9         5                  2     20   \n",
       "132378                   B1       4         1                  1     57   \n",
       "\n",
       "        price_2  page  \n",
       "0             1     2  \n",
       "1             1     2  \n",
       "2             1     1  \n",
       "3             2     1  \n",
       "4             1     2  \n",
       "...         ...   ...  \n",
       "132374        1     2  \n",
       "132375        2     2  \n",
       "132376        2     1  \n",
       "132377        2     3  \n",
       "132378        1     1  \n",
       "\n",
       "[132379 rows x 14 columns]"
      ]
     },
     "execution_count": 3,
     "metadata": {},
     "output_type": "execute_result"
    }
   ],
   "source": [
    "train_data"
   ]
  },
  {
   "cell_type": "code",
   "execution_count": 4,
   "metadata": {},
   "outputs": [
    {
     "name": "stdout",
     "output_type": "stream",
     "text": [
      "<class 'pandas.core.frame.DataFrame'>\n",
      "RangeIndex: 132379 entries, 0 to 132378\n",
      "Data columns (total 14 columns):\n",
      " #   Column                Non-Null Count   Dtype \n",
      "---  ------                --------------   ----- \n",
      " 0   year                  132379 non-null  int64 \n",
      " 1   month                 132379 non-null  int64 \n",
      " 2   day                   132379 non-null  int64 \n",
      " 3   order                 132379 non-null  int64 \n",
      " 4   country               132379 non-null  int64 \n",
      " 5   session_id            132379 non-null  int64 \n",
      " 6   page1_main_category   132379 non-null  int64 \n",
      " 7   page2_clothing_model  132379 non-null  object\n",
      " 8   colour                132379 non-null  int64 \n",
      " 9   location              132379 non-null  int64 \n",
      " 10  model_photography     132379 non-null  int64 \n",
      " 11  price                 132379 non-null  int64 \n",
      " 12  price_2               132379 non-null  int64 \n",
      " 13  page                  132379 non-null  int64 \n",
      "dtypes: int64(13), object(1)\n",
      "memory usage: 14.1+ MB\n"
     ]
    }
   ],
   "source": [
    "train_data.info()"
   ]
  },
  {
   "cell_type": "markdown",
   "metadata": {},
   "source": [
    "LabelEncoder for catogorical features "
   ]
  },
  {
   "cell_type": "code",
   "execution_count": 5,
   "metadata": {},
   "outputs": [],
   "source": [
    "from sklearn.preprocessing import LabelEncoder\n",
    "le1 = LabelEncoder()\n",
    "train_data['page2_clothing_model'] = le1.fit_transform(train_data['page2_clothing_model'])\n",
    "\n",
    "le2 = LabelEncoder()\n",
    "test_data['page2_clothing_model'] = le2.fit_transform(test_data['page2_clothing_model'])"
   ]
  },
  {
   "cell_type": "markdown",
   "metadata": {},
   "source": [
    "StandardScaler"
   ]
  },
  {
   "cell_type": "code",
   "execution_count": 6,
   "metadata": {},
   "outputs": [],
   "source": [
    "from sklearn.preprocessing import StandardScaler\n",
    "train_features = train_data[['page1_main_category', 'page2_clothing_model', 'colour']]\n",
    "train_target = train_data['price']\n",
    "\n",
    "test_features = test_data[['page1_main_category', 'page2_clothing_model', 'colour']]\n",
    "test_target = test_data['price']\n",
    "\n",
    "scaler = StandardScaler()\n",
    "train_features = scaler.fit_transform(train_features)\n",
    "test_features = scaler.transform(test_features)\n"
   ]
  },
  {
   "cell_type": "code",
   "execution_count": 7,
   "metadata": {},
   "outputs": [
    {
     "data": {
      "text/plain": [
       "(132379, 3)"
      ]
     },
     "execution_count": 7,
     "metadata": {},
     "output_type": "execute_result"
    }
   ],
   "source": [
    "train_features.shape"
   ]
  },
  {
   "cell_type": "markdown",
   "metadata": {},
   "source": [
    "Model Evaluation and Hyperparameter Tuning\n"
   ]
  },
  {
   "cell_type": "code",
   "execution_count": 8,
   "metadata": {},
   "outputs": [],
   "source": [
    "from sklearn.linear_model import LinearRegression, Ridge, Lasso\n",
    "from sklearn.ensemble import GradientBoostingRegressor, RandomForestRegressor\n",
    "from sklearn.metrics import r2_score, mean_absolute_error\n",
    "from sklearn.model_selection import GridSearchCV"
   ]
  },
  {
   "cell_type": "code",
   "execution_count": 9,
   "metadata": {},
   "outputs": [],
   "source": [
    "model_params = {\n",
    "    \"Linear Regressor\": (LinearRegression(), {}),\n",
    "    \n",
    "    \"Ridge Regressor\": (Ridge(), {\n",
    "        \"alpha\": [0.01, 0.1, 1, 10, 100]\n",
    "    }),\n",
    "    \n",
    "    \"Lasso Regressor\": (Lasso(), {\n",
    "        \"alpha\": [0.01, 0.1, 1, 10, 100]\n",
    "    }),\n",
    "    \n",
    "    \"Gradient Boosting Regressor\": (GradientBoostingRegressor(), {\n",
    "        \"n_estimators\": [100, 200, 300],\n",
    "        \"learning_rate\": [0.01, 0.1, 0.2],\n",
    "        \"max_depth\": [3, 5, 7]\n",
    "    }),\n",
    "    \n",
    "    \"Random Forest Regressor\": (RandomForestRegressor(), {\n",
    "        \"n_estimators\": [50, 100, 200],\n",
    "        \"max_depth\": [None, 10, 20],\n",
    "        \"min_samples_split\": [2, 5, 10]\n",
    "    })\n",
    "}"
   ]
  },
  {
   "cell_type": "code",
   "execution_count": 12,
   "metadata": {},
   "outputs": [],
   "source": [
    "reports = []\n",
    "\n",
    "for name, (model, param_grid) in model_params.items():\n",
    "    if param_grid:\n",
    "        grid_search = GridSearchCV(model, param_grid, cv=5, scoring=\"r2\", n_jobs=-1)\n",
    "        grid_search.fit(train_features, train_target)\n",
    "        best_model = grid_search.best_estimator_\n",
    "        best_params = grid_search.best_params_\n",
    "    else:\n",
    "        best_model = model\n",
    "        best_model.fit(train_features, train_target)\n",
    "        best_params = \"Default Parameters\"\n",
    "\n",
    "    predictions = best_model.predict(test_features)\n",
    "    mae = mean_absolute_error(test_target, predictions)\n",
    "    r2 = r2_score(test_target, predictions)\n",
    "\n",
    "    reports.append((name, best_model, best_params, mae, r2))"
   ]
  },
  {
   "cell_type": "code",
   "execution_count": 15,
   "metadata": {},
   "outputs": [
    {
     "name": "stdout",
     "output_type": "stream",
     "text": [
      "Model: Linear Regressor\n",
      "Best Parameters: Default Parameters\n",
      "MAE: 10.0456\n",
      "R2 Score: 0.1364\n",
      "\n",
      "\n",
      "Model: Ridge Regressor\n",
      "Best Parameters: {'alpha': 10}\n",
      "MAE: 10.0454\n",
      "R2 Score: 0.1364\n",
      "\n",
      "\n",
      "Model: Lasso Regressor\n",
      "Best Parameters: {'alpha': 0.01}\n",
      "MAE: 10.0402\n",
      "R2 Score: 0.1364\n",
      "\n",
      "\n",
      "Model: Gradient Boosting Regressor\n",
      "Best Parameters: {'learning_rate': 0.2, 'max_depth': 7, 'n_estimators': 300}\n",
      "MAE: 0.4849\n",
      "R2 Score: 0.9573\n",
      "\n",
      "\n",
      "Model: Random Forest Regressor\n",
      "Best Parameters: {'max_depth': 20, 'min_samples_split': 10, 'n_estimators': 100}\n",
      "MAE: 0.4429\n",
      "R2 Score: 0.9547\n",
      "\n",
      "\n"
     ]
    }
   ],
   "source": [
    "for name, model, best_params, mae, r2 in reports:\n",
    "    print(f\"Model: {name}\")\n",
    "    print(f\"Best Parameters: {best_params}\")\n",
    "    print(f\"MAE: {mae:.4f}\")\n",
    "    print(f\"R2 Score: {r2:.4f}\")\n",
    "    print(\"\\n\")"
   ]
  },
  {
   "cell_type": "code",
   "execution_count": 16,
   "metadata": {},
   "outputs": [],
   "source": [
    "import mlflow\n",
    "import mlflow.sklearn\n",
    "import mlflow.pyfunc"
   ]
  },
  {
   "cell_type": "code",
   "execution_count": null,
   "metadata": {},
   "outputs": [],
   "source": [
    "mlflow.set_tracking_uri(\"http://127.0.0.1:5000\")\n",
    "mlflow.set_experiment(\"Price Prediction (Regression)\")\n",
    "\n",
    "for name, model, best_params, mae, r2 in reports:\n",
    "    with mlflow.start_run(run_name=name) as run:\n",
    "        mlflow.log_metric(\"MAE\", mae)\n",
    "        mlflow.log_metric(\"R2\", r2)\n",
    "        \n",
    "        if name == \"Linear Regressor\":\n",
    "            mlflow.sklearn.log_model(model, \"linear_model\")\n",
    "        elif name == \"Ridge Regressor\":\n",
    "            mlflow.sklearn.log_model(model, \"ridge_model\")\n",
    "        elif name == \"Lasso Regressor\":\n",
    "            mlflow.sklearn.log_model(model, \"lasso_model\")\n",
    "        elif name == \"Gradient Boosting Regressor\":\n",
    "            mlflow.sklearn.log_model(model, \"gradient_boosting_model\")\n",
    "        elif name == \"Random Forest Regressor\":\n",
    "            mlflow.sklearn.log_model(model, \"random_forest_model\")\n",
    "        else:\n",
    "            pass"
   ]
  },
  {
   "cell_type": "code",
   "execution_count": null,
   "metadata": {},
   "outputs": [
    {
     "name": "stderr",
     "output_type": "stream",
     "text": [
      "Successfully registered model 'Gradient Boosting Regressor'.\n",
      "2025/02/18 10:34:43 INFO mlflow.store.model_registry.abstract_store: Waiting up to 300 seconds for model version to finish creation. Model name: Gradient Boosting Regressor, version 1\n"
     ]
    },
    {
     "name": "stdout",
     "output_type": "stream",
     "text": [
      "🏃 View run Gradient Boosting Regressor at: http://127.0.0.1:5000/#/experiments/332772607796571085/runs/911e85dc72c64be89829b853abf339b6\n",
      "🧪 View experiment at: http://127.0.0.1:5000/#/experiments/332772607796571085\n"
     ]
    },
    {
     "name": "stderr",
     "output_type": "stream",
     "text": [
      "Created version '1' of model 'Gradient Boosting Regressor'.\n"
     ]
    }
   ],
   "source": [
    "model_name ='Gradient Boosting Regressor'\n",
    "run_id = '911e85dc72c64be89829b853abf339b6'\n",
    "model_uri = f'runs:/{run_id}/gradient_boosting_model'\n",
    "\n",
    "with mlflow.start_run(run_id=run_id):\n",
    "    mlflow.register_model(model_uri= model_uri , name= model_name)"
   ]
  },
  {
   "cell_type": "code",
   "execution_count": 18,
   "metadata": {},
   "outputs": [
    {
     "name": "stderr",
     "output_type": "stream",
     "text": [
      "c:\\Users\\abina\\AppData\\Local\\Programs\\Python\\Python313\\Lib\\site-packages\\tqdm\\auto.py:21: TqdmWarning: IProgress not found. Please update jupyter and ipywidgets. See https://ipywidgets.readthedocs.io/en/stable/user_install.html\n",
      "  from .autonotebook import tqdm as notebook_tqdm\n",
      "Downloading artifacts: 100%|██████████| 5/5 [00:00<00:00, 1796.12it/s]\n"
     ]
    }
   ],
   "source": [
    "mlflow.set_tracking_uri(\"http://127.0.0.1:5000\")\n",
    "model_name = \"Gradient Boosting Regressor\"\n",
    "model_version = \"1\"\n",
    "model_uri = f\"models:/{model_name}/{model_version}\"\n",
    "model = mlflow.pyfunc.load_model(model_uri)"
   ]
  },
  {
   "cell_type": "code",
   "execution_count": null,
   "metadata": {},
   "outputs": [],
   "source": [
    "import pickle\n",
    "\n",
    "with open('le1_clothing_model.pkl', 'wb') as f:\n",
    "    pickle.dump(le1, f)\n",
    "\n",
    "with open('le2_clothing_model.pkl', 'wb') as f:\n",
    "    pickle.dump(le2, f)\n",
    "\n",
    "with open('regression_standard_scaler.pkl', 'wb') as f:\n",
    "    pickle.dump(scaler, f)\n",
    "\n",
    "with open('gradient_boosting_model.pkl', 'wb') as f:\n",
    "    pickle.dump(model, f)"
   ]
  }
 ],
 "metadata": {
  "kernelspec": {
   "display_name": "Python 3",
   "language": "python",
   "name": "python3"
  },
  "language_info": {
   "codemirror_mode": {
    "name": "ipython",
    "version": 3
   },
   "file_extension": ".py",
   "mimetype": "text/x-python",
   "name": "python",
   "nbconvert_exporter": "python",
   "pygments_lexer": "ipython3",
   "version": "3.13.0"
  }
 },
 "nbformat": 4,
 "nbformat_minor": 2
}
